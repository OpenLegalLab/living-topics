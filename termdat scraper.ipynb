{
 "cells": [
  {
   "cell_type": "markdown",
   "id": "0eca78b1",
   "metadata": {},
   "source": [
    "# Living Topics\n",
    "\n",
    "Show the pulse of the living Swiss government .. but first, help to understand the anatomy.\n",
    "\n",
    "A #GovTechHack23 project https://hack.opendata.ch/project/946\n",
    "\n",
    "In which we (very quickly) explore the TERMDAT API, compare it with similar sources of reference, and attempt to build a very basic machine learning API out of it.\n",
    "\n",
    "Let us begin with gathering some data ..."
   ]
  },
  {
   "cell_type": "code",
   "execution_count": 3,
   "id": "54dd0029",
   "metadata": {},
   "outputs": [],
   "source": [
    "import requests"
   ]
  },
  {
   "cell_type": "markdown",
   "id": "3c6caf9b",
   "metadata": {},
   "source": [
    "We know that there are 8 overarching departments, and 3 levels of government in Switzerland. Here we configure requests to the TERMDAT API to receive definitions."
   ]
  },
  {
   "cell_type": "code",
   "execution_count": 31,
   "id": "990aebd4",
   "metadata": {},
   "outputs": [],
   "source": [
    "departments = ['BK', 'EDA', 'EDI', 'EJPD', 'VBS', 'EFD', 'WBF', 'UVEK', 'Bund', 'Kanton', 'Gemeinde']\n",
    "max_entry = 1\n",
    "filterOptions = 'Field.Terminus=false&Field.Name=false&Field.Abbreviation=true&Field.Phraseology=false&Field.Definition=false&Field.Note=false&Field.Context=false'"
   ]
  },
  {
   "cell_type": "markdown",
   "id": "0beb3554",
   "metadata": {},
   "source": [
    "Use the TERMDAT API to collect information about the Federal Institutions."
   ]
  },
  {
   "cell_type": "code",
   "execution_count": 32,
   "id": "9c15a2db",
   "metadata": {},
   "outputs": [],
   "source": [
    "ch_data = {}\n",
    "\n",
    "for search_term in departments:\n",
    "    r = requests.get('https://api.termdat.ch/v2/Search?%s&InLanguageCode=DE&MaxEntryCount=%d&SearchTerm=%s&ReturnType=Detail' % (filterOptions, max_entry, search_term))\n",
    "    jsondata = r.json()\n",
    "    detaildata = jsondata[0]['languageDetails'][0]\n",
    "    results = []\n",
    "    if 'note' in detaildata:\n",
    "        results.append(detaildata['note'])\n",
    "    if 'definition' in detaildata:\n",
    "        results.append(detaildata['definition'])\n",
    "    ch_data[search_term] = results"
   ]
  },
  {
   "cell_type": "code",
   "execution_count": 33,
   "id": "86402080",
   "metadata": {},
   "outputs": [
    {
     "data": {
      "text/plain": [
       "{'BK': ['USG: offiziell, bevorzugt; EXP: die Bundeskanzlei plant, koordiniert, berät, organisiert Entscheidverfahren und übernimmt im Auftrag des Bundesrats Kontrollaufgaben (a); 1848-1895 unter der Aufsicht des Departements des Innern (b); 1895-1914 unter der Aufsicht des Politischen Departements (c); 1914 dem Bundesrat zugeordnet (d); HIS: seit 1848',\n",
       "  'Stabsstelle des Bundesrats, die von einer Bundeskanzlerin oder einem Bundeskanzler geleitet wird und eine Scharnierfunktion zwischen Regierung, Bundesverwaltung, Bundesversammlung und Öffentlichkeit hat.'],\n",
       " 'EDA': ['USG: offiziell;  EXP: Ministerium der Schweizerischen Bundesverwaltung; HIS: 1887-1895 (auch Departement des Äussern)(c) und seit 1979 (a); 1848-1887 und 1895-1978 Politisches Departement (b)(d)'],\n",
       " 'EDI': ['USG: offiziell; EXP: Ministerium der Schweizerischen Bundesverwaltung; HIS: seit 1849'],\n",
       " 'EJPD': ['USG: offiziell; EXP: Ministerium der Schweizerischen Bundesverwaltung; HIS: seit 1849'],\n",
       " 'VBS': ['USG: offiziell; EXP: schweizerisches Verteidigungsministerium; HIS: ab 1998 (a); 1849-1997 Eidgenössisches Militärdepartement, EMD (b)'],\n",
       " 'EFD': ['USG: offiziell;  EXP: Ministerium der Schweizerischen Bundesverwaltung; HIS: 1849-1873 und seit 1979 (a)(c); 1873-1978 Eidgenössisches Finanz- und Zolldepartement (b)'],\n",
       " 'WBF': ['USG: offiziell; EXP: Ministerium der Schweizerischen Bundesverwaltung; HIS: seit 2013 (a); 1849-1872 Handels- und Zolldepartement (b); 1873-1878 Eisenbahn- und Handelsdepartement (c); 1879-1887 Handels- und Landwirtschaftsdepartement (d); 1888-1895 Industrie- und Landwirtschaftsdepartement (e); 1896-1914 Handels-, Industrie- und Landwirtschaftsdepartement (f); 1915-2012 Eidgenössisches Volkswirtschaftsdepartement (EVD) (g)'],\n",
       " 'UVEK': ['USG: offiziell; EXP: Ministerium der Schweizerischen Bundesverwaltung; HIS: seit 1998 (a); 1963-1997 Eidgenössisches Verkehrs- und Energiewirtschaftsdepartement, EVED (b); 1849-1873 Post- und Baudepartement (c); 1873-1878 Post- und Telegraphendepartement (d); 1878-1963 Post- und Eisenbahndepartement (e)']}"
      ]
     },
     "execution_count": 33,
     "metadata": {},
     "output_type": "execute_result"
    }
   ],
   "source": [
    "ch_data"
   ]
  },
  {
   "cell_type": "markdown",
   "id": "83a4863f",
   "metadata": {},
   "source": [
    "Now we save this information to separate files.."
   ]
  },
  {
   "cell_type": "code",
   "execution_count": 37,
   "id": "fe1a5736",
   "metadata": {},
   "outputs": [],
   "source": [
    "for obj in ch_data.keys():\n",
    "    with open(obj.lower() + '/termdat.txt', 'w') as f:\n",
    "        for item in ch_data[obj]:\n",
    "            f.write(item)"
   ]
  },
  {
   "cell_type": "markdown",
   "id": "83e68182",
   "metadata": {},
   "source": [
    "Time for some \"data science\" 🪄 \n",
    "\n",
    "We suggest https://huggingface.co/morit/german_xlm_xnli ..."
   ]
  }
 ],
 "metadata": {
  "kernelspec": {
   "display_name": "Python 3 (ipykernel)",
   "language": "python",
   "name": "python3"
  },
  "language_info": {
   "codemirror_mode": {
    "name": "ipython",
    "version": 3
   },
   "file_extension": ".py",
   "mimetype": "text/x-python",
   "name": "python",
   "nbconvert_exporter": "python",
   "pygments_lexer": "ipython3",
   "version": "3.11.2"
  }
 },
 "nbformat": 4,
 "nbformat_minor": 5
}
