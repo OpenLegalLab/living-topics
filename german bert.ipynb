{
 "cells": [
  {
   "cell_type": "code",
   "execution_count": 1,
   "id": "3d89a705",
   "metadata": {},
   "outputs": [
    {
     "name": "stderr",
     "output_type": "stream",
     "text": [
      "/usr/lib/python3.11/site-packages/tqdm/auto.py:21: TqdmWarning: IProgress not found. Please update jupyter and ipywidgets. See https://ipywidgets.readthedocs.io/en/stable/user_install.html\n",
      "  from .autonotebook import tqdm as notebook_tqdm\n",
      "Downloading (…)lve/main/config.json: 100%|████████████████████████████████████████| 859/859 [00:00<00:00, 591kB/s]\n",
      "Downloading pytorch_model.bin: 100%|███████████████████████████████████████████| 436M/436M [00:21<00:00, 19.9MB/s]\n",
      "/home/oleg/.local/lib/python3.11/site-packages/torch/_utils.py:147: UserWarning: Failed to initialize NumPy: module compiled against API version 0x10 but this version of numpy is 0xf (Triggered internally at ../torch/csrc/utils/tensor_numpy.cpp:84.)\n",
      "  t = torch.tensor([], dtype=storage.dtype, device=storage._untyped_storage.device)\n",
      "Downloading (…)okenizer_config.json: 100%|████████████████████████████████████████| 517/517 [00:00<00:00, 506kB/s]\n",
      "Downloading (…)solve/main/vocab.txt: 100%|██████████████████████████████████████| 255k/255k [00:00<00:00, 815kB/s]\n",
      "Downloading (…)cial_tokens_map.json: 100%|████████████████████████████████████████| 112/112 [00:00<00:00, 101kB/s]\n"
     ]
    },
    {
     "name": "stdout",
     "output_type": "stream",
     "text": [
      "['positive', 'negative', 'neutral']\n"
     ]
    }
   ],
   "source": [
    "from germansentiment import SentimentModel\n",
    "\n",
    "model = SentimentModel('mdraw/german-news-sentiment-bert')\n",
    "\n",
    "# Examples from our validation dataset\n",
    "texts = [\n",
    "    '[...], schwärmt der parteilose Vizebürgermeister und Historiker Christian Matzka von der \"tollen Helferszene\".',\n",
    "    'Flüchtlingsheim 11.05 Uhr: Massenschlägerei',\n",
    "    'Rotterdam habe einen Migrantenanteil von mehr als 50 Prozent.',\n",
    "]\n",
    "\n",
    "result = model.predict_sentiment(texts)\n",
    "\n",
    "print(result)"
   ]
  }
 ],
 "metadata": {
  "kernelspec": {
   "display_name": "Python 3 (ipykernel)",
   "language": "python",
   "name": "python3"
  },
  "language_info": {
   "codemirror_mode": {
    "name": "ipython",
    "version": 3
   },
   "file_extension": ".py",
   "mimetype": "text/x-python",
   "name": "python",
   "nbconvert_exporter": "python",
   "pygments_lexer": "ipython3",
   "version": "3.11.2"
  }
 },
 "nbformat": 4,
 "nbformat_minor": 5
}
