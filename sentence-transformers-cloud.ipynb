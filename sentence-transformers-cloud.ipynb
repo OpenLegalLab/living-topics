{
 "cells": [
  {
   "cell_type": "code",
   "execution_count": 12,
   "metadata": {},
   "outputs": [],
   "source": [
    "from os import walk, getcwd, path\n",
    "\n",
    "import requests\n",
    "\n",
    "from dotenv import load_dotenv\n",
    "load_dotenv()\n",
    "from os import environ"
   ]
  },
  {
   "cell_type": "code",
   "execution_count": 7,
   "metadata": {},
   "outputs": [],
   "source": [
    "API_URL = \"https://api-inference.huggingface.co/models/aari1995/German_Semantic_STS_V2\"\n",
    "headers = {\"Authorization\": \"Bearer \" + environ.get(\"API_TOKEN\")}\n",
    "\n",
    "def query(payload):\n",
    "\tresponse = requests.post(API_URL, headers=headers, json=payload)\n",
    "\treturn response.json()"
   ]
  },
  {
   "cell_type": "code",
   "execution_count": 8,
   "metadata": {},
   "outputs": [],
   "source": [
    "query_text = 'Sanierung von asbestbelasteten Gebäude'"
   ]
  },
  {
   "cell_type": "code",
   "execution_count": 9,
   "metadata": {},
   "outputs": [
    {
     "name": "stdout",
     "output_type": "stream",
     "text": [
      "Bund\n",
      "Gemeinde\n",
      "Kantone\n",
      "BK\n",
      "EDA\n",
      "EDI\n",
      "EFD\n",
      "EJPD\n",
      "UVEK\n",
      "VBS\n",
      "WBF\n"
     ]
    }
   ],
   "source": [
    "# The passages are encoded as [ [title1, text1], [title2, text2], ...]\n",
    "passages = []\n",
    "\n",
    "# Get a list of objects at the root\n",
    "froot = ['Bund', 'Gemeinde', 'Kantone', 'BK', 'EDA', 'EDI', 'EFD', 'EJPD', 'UVEK', 'VBS', 'WBF']\n",
    "for dept in froot:\n",
    "    print(dept)\n",
    "    curdir = dept.lower()\n",
    "    for (dirpath, dirnames, filenames) in walk(path.join(getcwd(), curdir)):\n",
    "        for filename in filenames:\n",
    "            with open(path.join(dirpath, filename), mode=\"r\", encoding=\"utf-8\") as f:\n",
    "                for line in f.readlines():\n",
    "                    ll = line.strip()\n",
    "                    if not ll:\n",
    "                        continue\n",
    "                    for llp in ll.split('.'):\n",
    "                        llps = llp.strip()\n",
    "                        if len(llps) > 20:\n",
    "                            passages.extend([ dept, llps ])\n",
    "                        "
   ]
  },
  {
   "cell_type": "code",
   "execution_count": 13,
   "metadata": {},
   "outputs": [
    {
     "ename": "AttributeError",
     "evalue": "module 'requests' has no attribute 'post'",
     "output_type": "error",
     "traceback": [
      "\u001b[1;31m---------------------------------------------------------------------------\u001b[0m",
      "\u001b[1;31mAttributeError\u001b[0m                            Traceback (most recent call last)",
      "\u001b[1;32m<ipython-input-13-a271d46b2231>\u001b[0m in \u001b[0;36m<module>\u001b[1;34m\u001b[0m\n\u001b[0;32m      2\u001b[0m \t\"inputs\": {\n\u001b[0;32m      3\u001b[0m                 \u001b[1;34m\"source_sentence\"\u001b[0m\u001b[1;33m:\u001b[0m \u001b[0mquery_text\u001b[0m\u001b[1;33m,\u001b[0m\u001b[1;33m\u001b[0m\u001b[1;33m\u001b[0m\u001b[0m\n\u001b[1;32m----> 4\u001b[1;33m                 \u001b[1;34m\"sentences\"\u001b[0m\u001b[1;33m:\u001b[0m \u001b[0mpassages\u001b[0m\u001b[1;33m\u001b[0m\u001b[1;33m\u001b[0m\u001b[0m\n\u001b[0m\u001b[0;32m      5\u001b[0m \t},\n\u001b[0;32m      6\u001b[0m })\n",
      "\u001b[1;32m<ipython-input-7-3a3a6a94794e>\u001b[0m in \u001b[0;36mquery\u001b[1;34m(payload)\u001b[0m\n\u001b[0;32m      5\u001b[0m \u001b[1;33m\u001b[0m\u001b[0m\n\u001b[0;32m      6\u001b[0m \u001b[1;32mdef\u001b[0m \u001b[0mquery\u001b[0m\u001b[1;33m(\u001b[0m\u001b[0mpayload\u001b[0m\u001b[1;33m)\u001b[0m\u001b[1;33m:\u001b[0m\u001b[1;33m\u001b[0m\u001b[1;33m\u001b[0m\u001b[0m\n\u001b[1;32m----> 7\u001b[1;33m         \u001b[0mresponse\u001b[0m \u001b[1;33m=\u001b[0m \u001b[0mrequests\u001b[0m\u001b[1;33m.\u001b[0m\u001b[0mpost\u001b[0m\u001b[1;33m(\u001b[0m\u001b[0mAPI_URL\u001b[0m\u001b[1;33m,\u001b[0m \u001b[0mheaders\u001b[0m\u001b[1;33m=\u001b[0m\u001b[0mheaders\u001b[0m\u001b[1;33m,\u001b[0m \u001b[0mjson\u001b[0m\u001b[1;33m=\u001b[0m\u001b[0mpayload\u001b[0m\u001b[1;33m)\u001b[0m\u001b[1;33m\u001b[0m\u001b[1;33m\u001b[0m\u001b[0m\n\u001b[0m\u001b[0;32m      8\u001b[0m         \u001b[1;32mreturn\u001b[0m \u001b[0mresponse\u001b[0m\u001b[1;33m.\u001b[0m\u001b[0mjson\u001b[0m\u001b[1;33m(\u001b[0m\u001b[1;33m)\u001b[0m\u001b[1;33m\u001b[0m\u001b[1;33m\u001b[0m\u001b[0m\n",
      "\u001b[1;31mAttributeError\u001b[0m: module 'requests' has no attribute 'post'"
     ]
    }
   ],
   "source": [
    "output = query({\n",
    "\t\"inputs\": {\n",
    "\t\t\"source_sentence\": query_text,\n",
    "\t\t\"sentences\": passages\n",
    "\t},\n",
    "})"
   ]
  }
 ],
 "metadata": {
  "kernelspec": {
   "display_name": "Python 3",
   "language": "python",
   "name": "python3"
  },
  "language_info": {
   "codemirror_mode": {
    "name": "ipython",
    "version": 3
   },
   "file_extension": ".py",
   "mimetype": "text/x-python",
   "name": "python",
   "nbconvert_exporter": "python",
   "pygments_lexer": "ipython3",
   "version": "3.7.4"
  }
 },
 "nbformat": 4,
 "nbformat_minor": 2
}
